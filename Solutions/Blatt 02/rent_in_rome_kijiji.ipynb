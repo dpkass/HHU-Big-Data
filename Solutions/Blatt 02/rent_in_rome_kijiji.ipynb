{
 "cells": [
  {
   "metadata": {},
   "cell_type": "raw",
   "source": "MinHash (LSH) Training on \"Rent in Rome Kijiji\" Dataset",
   "id": "16a63b767a9bc7a1"
  },
  {
   "metadata": {
    "ExecuteTime": {
     "end_time": "2024-11-12T10:37:06.724006Z",
     "start_time": "2024-11-12T10:37:06.130204Z"
    }
   },
   "cell_type": "code",
   "source": [
    "import pandas as pd\n",
    "import numpy as np"
   ],
   "id": "3e6d6e6b1e6892d3",
   "outputs": [],
   "execution_count": 1
  },
  {
   "metadata": {
    "ExecuteTime": {
     "end_time": "2024-11-12T10:37:06.756820Z",
     "start_time": "2024-11-12T10:37:06.725199Z"
    }
   },
   "cell_type": "code",
   "source": [
    "data = pd.read_csv('data/dataset_rent_rome_kijiji.tsv', sep='\\t', header=0,\n",
    "                   usecols=['Title', 'Short Description'])\n",
    "data.head()"
   ],
   "id": "f6127196916c93c3",
   "outputs": [
    {
     "data": {
      "text/plain": [
       "                                               Title  \\\n",
       "0  Studio accessoriato vicino metro A Furio Camillo    \n",
       "1  Negozio 169Mq per laboratorio, ufficio, studio...   \n",
       "2                       Negozio in tiburtina centro    \n",
       "3           Studio medico via anapo parco nemorense    \n",
       "4  Cerco: Appartamento per donna lavoratrice refe...   \n",
       "\n",
       "                                   Short Description  \n",
       "0  Affitto studio a professionisti preferibilment...  \n",
       "1  Privato affitta negozio 169 mq, al piano terra...  \n",
       "2  Negozio c/1 roma tiburtina centro via eugenio ...  \n",
       "3  Studio medico avviato, composto da tre studi c...  \n",
       "4  Donna lavoratrice, non residente, con reddito ...  "
      ],
      "text/html": [
       "<div>\n",
       "<style scoped>\n",
       "    .dataframe tbody tr th:only-of-type {\n",
       "        vertical-align: middle;\n",
       "    }\n",
       "\n",
       "    .dataframe tbody tr th {\n",
       "        vertical-align: top;\n",
       "    }\n",
       "\n",
       "    .dataframe thead th {\n",
       "        text-align: right;\n",
       "    }\n",
       "</style>\n",
       "<table border=\"1\" class=\"dataframe\">\n",
       "  <thead>\n",
       "    <tr style=\"text-align: right;\">\n",
       "      <th></th>\n",
       "      <th>Title</th>\n",
       "      <th>Short Description</th>\n",
       "    </tr>\n",
       "  </thead>\n",
       "  <tbody>\n",
       "    <tr>\n",
       "      <th>0</th>\n",
       "      <td>Studio accessoriato vicino metro A Furio Camillo</td>\n",
       "      <td>Affitto studio a professionisti preferibilment...</td>\n",
       "    </tr>\n",
       "    <tr>\n",
       "      <th>1</th>\n",
       "      <td>Negozio 169Mq per laboratorio, ufficio, studio...</td>\n",
       "      <td>Privato affitta negozio 169 mq, al piano terra...</td>\n",
       "    </tr>\n",
       "    <tr>\n",
       "      <th>2</th>\n",
       "      <td>Negozio in tiburtina centro</td>\n",
       "      <td>Negozio c/1 roma tiburtina centro via eugenio ...</td>\n",
       "    </tr>\n",
       "    <tr>\n",
       "      <th>3</th>\n",
       "      <td>Studio medico via anapo parco nemorense</td>\n",
       "      <td>Studio medico avviato, composto da tre studi c...</td>\n",
       "    </tr>\n",
       "    <tr>\n",
       "      <th>4</th>\n",
       "      <td>Cerco: Appartamento per donna lavoratrice refe...</td>\n",
       "      <td>Donna lavoratrice, non residente, con reddito ...</td>\n",
       "    </tr>\n",
       "  </tbody>\n",
       "</table>\n",
       "</div>"
      ]
     },
     "execution_count": 2,
     "metadata": {},
     "output_type": "execute_result"
    }
   ],
   "execution_count": 2
  },
  {
   "metadata": {
    "ExecuteTime": {
     "end_time": "2024-11-12T10:37:06.761354Z",
     "start_time": "2024-11-12T10:37:06.757509Z"
    }
   },
   "cell_type": "code",
   "source": [
    "class KShingles:\n",
    "    def __init__(self, k):\n",
    "        self.k = k\n",
    "\n",
    "    def __call__(self, entry):\n",
    "        return set(entry[i:i + self.k] for i in range(len(entry) - self.k + 1))\n",
    "\n",
    "\n",
    "KShingles(3)('paper')"
   ],
   "id": "b1f93831adb13654",
   "outputs": [
    {
     "data": {
      "text/plain": [
       "{'ape', 'pap', 'per'}"
      ]
     },
     "execution_count": 3,
     "metadata": {},
     "output_type": "execute_result"
    }
   ],
   "execution_count": 3
  },
  {
   "metadata": {
    "ExecuteTime": {
     "end_time": "2024-11-12T10:37:06.794734Z",
     "start_time": "2024-11-12T10:37:06.763198Z"
    }
   },
   "cell_type": "code",
   "source": [
    "k = 5\n",
    "k_shingles = KShingles(k)\n",
    "\n",
    "data = data.map(str.lower)\n",
    "data['Title Document'] = data['Title'].apply(k_shingles)\n",
    "# data['Description Document'] = data['Short Description'].apply(k_shingles)\n",
    "\n",
    "data.head()"
   ],
   "id": "e08ec32c49db7345",
   "outputs": [
    {
     "data": {
      "text/plain": [
       "                                               Title  \\\n",
       "0  studio accessoriato vicino metro a furio camillo    \n",
       "1  negozio 169mq per laboratorio, ufficio, studio...   \n",
       "2                       negozio in tiburtina centro    \n",
       "3           studio medico via anapo parco nemorense    \n",
       "4  cerco: appartamento per donna lavoratrice refe...   \n",
       "\n",
       "                                   Short Description  \\\n",
       "0  affitto studio a professionisti preferibilment...   \n",
       "1  privato affitta negozio 169 mq, al piano terra...   \n",
       "2  negozio c/1 roma tiburtina centro via eugenio ...   \n",
       "3  studio medico avviato, composto da tre studi c...   \n",
       "4  donna lavoratrice, non residente, con reddito ...   \n",
       "\n",
       "                                      Title Document  \n",
       "0  {oriat, acces, vicin, io ca, camil, o cam, to ...  \n",
       "1  { a ro, borat, oma. , per l, 169mq, q per, ato...  \n",
       "2  { in t, io in, burti, urtin, centr, na ce, n t...  \n",
       "3  {ico v, co ne, parco, po pa, o nem, moren, a a...  \n",
       "4  {rco: , nziat,  lavo, e ref, erenz, ament, r d...  "
      ],
      "text/html": [
       "<div>\n",
       "<style scoped>\n",
       "    .dataframe tbody tr th:only-of-type {\n",
       "        vertical-align: middle;\n",
       "    }\n",
       "\n",
       "    .dataframe tbody tr th {\n",
       "        vertical-align: top;\n",
       "    }\n",
       "\n",
       "    .dataframe thead th {\n",
       "        text-align: right;\n",
       "    }\n",
       "</style>\n",
       "<table border=\"1\" class=\"dataframe\">\n",
       "  <thead>\n",
       "    <tr style=\"text-align: right;\">\n",
       "      <th></th>\n",
       "      <th>Title</th>\n",
       "      <th>Short Description</th>\n",
       "      <th>Title Document</th>\n",
       "    </tr>\n",
       "  </thead>\n",
       "  <tbody>\n",
       "    <tr>\n",
       "      <th>0</th>\n",
       "      <td>studio accessoriato vicino metro a furio camillo</td>\n",
       "      <td>affitto studio a professionisti preferibilment...</td>\n",
       "      <td>{oriat, acces, vicin, io ca, camil, o cam, to ...</td>\n",
       "    </tr>\n",
       "    <tr>\n",
       "      <th>1</th>\n",
       "      <td>negozio 169mq per laboratorio, ufficio, studio...</td>\n",
       "      <td>privato affitta negozio 169 mq, al piano terra...</td>\n",
       "      <td>{ a ro, borat, oma. , per l, 169mq, q per, ato...</td>\n",
       "    </tr>\n",
       "    <tr>\n",
       "      <th>2</th>\n",
       "      <td>negozio in tiburtina centro</td>\n",
       "      <td>negozio c/1 roma tiburtina centro via eugenio ...</td>\n",
       "      <td>{ in t, io in, burti, urtin, centr, na ce, n t...</td>\n",
       "    </tr>\n",
       "    <tr>\n",
       "      <th>3</th>\n",
       "      <td>studio medico via anapo parco nemorense</td>\n",
       "      <td>studio medico avviato, composto da tre studi c...</td>\n",
       "      <td>{ico v, co ne, parco, po pa, o nem, moren, a a...</td>\n",
       "    </tr>\n",
       "    <tr>\n",
       "      <th>4</th>\n",
       "      <td>cerco: appartamento per donna lavoratrice refe...</td>\n",
       "      <td>donna lavoratrice, non residente, con reddito ...</td>\n",
       "      <td>{rco: , nziat,  lavo, e ref, erenz, ament, r d...</td>\n",
       "    </tr>\n",
       "  </tbody>\n",
       "</table>\n",
       "</div>"
      ]
     },
     "execution_count": 4,
     "metadata": {},
     "output_type": "execute_result"
    }
   ],
   "execution_count": 4
  },
  {
   "metadata": {
    "ExecuteTime": {
     "end_time": "2024-11-12T10:37:06.806855Z",
     "start_time": "2024-11-12T10:37:06.797466Z"
    }
   },
   "cell_type": "code",
   "source": [
    "from itertools import chain\n",
    "\n",
    "all_shingles = list(chain.from_iterable(data['Title Document']))\n",
    "unique_shingles = sorted(set(all_shingles))\n",
    "num_shingles = len(unique_shingles)\n",
    "\n",
    "num_shingles"
   ],
   "id": "18ad4418e09ea702",
   "outputs": [
    {
     "data": {
      "text/plain": [
       "12840"
      ]
     },
     "execution_count": 5,
     "metadata": {},
     "output_type": "execute_result"
    }
   ],
   "execution_count": 5
  },
  {
   "metadata": {
    "ExecuteTime": {
     "end_time": "2024-11-12T10:37:06.832799Z",
     "start_time": "2024-11-12T10:37:06.807574Z"
    }
   },
   "cell_type": "code",
   "source": [
    "# for faster lookup\n",
    "shingle_index_map = {shingle: i for i, shingle in enumerate(unique_shingles)}\n",
    "\n",
    "\n",
    "def shingle_vector(shingle_set):\n",
    "    vec = np.zeros(len(unique_shingles), dtype=bool)\n",
    "    for shingle in shingle_set: vec[shingle_index_map[shingle]] = True\n",
    "\n",
    "    return vec\n",
    "\n",
    "\n",
    "data['Title Document Vectors'] = data['Title Document'].apply(shingle_vector)\n",
    "\n",
    "assert len(data['Title Document'][0]) == sum(data['Title Document Vectors'][0])\n",
    "data.head()"
   ],
   "id": "196324ff82f001d6",
   "outputs": [
    {
     "data": {
      "text/plain": [
       "                                               Title  \\\n",
       "0  studio accessoriato vicino metro a furio camillo    \n",
       "1  negozio 169mq per laboratorio, ufficio, studio...   \n",
       "2                       negozio in tiburtina centro    \n",
       "3           studio medico via anapo parco nemorense    \n",
       "4  cerco: appartamento per donna lavoratrice refe...   \n",
       "\n",
       "                                   Short Description  \\\n",
       "0  affitto studio a professionisti preferibilment...   \n",
       "1  privato affitta negozio 169 mq, al piano terra...   \n",
       "2  negozio c/1 roma tiburtina centro via eugenio ...   \n",
       "3  studio medico avviato, composto da tre studi c...   \n",
       "4  donna lavoratrice, non residente, con reddito ...   \n",
       "\n",
       "                                      Title Document  \\\n",
       "0  {oriat, acces, vicin, io ca, camil, o cam, to ...   \n",
       "1  { a ro, borat, oma. , per l, 169mq, q per, ato...   \n",
       "2  { in t, io in, burti, urtin, centr, na ce, n t...   \n",
       "3  {ico v, co ne, parco, po pa, o nem, moren, a a...   \n",
       "4  {rco: , nziat,  lavo, e ref, erenz, ament, r d...   \n",
       "\n",
       "                              Title Document Vectors  \n",
       "0  [False, False, False, False, False, False, Fal...  \n",
       "1  [False, False, False, False, False, False, Fal...  \n",
       "2  [False, False, False, False, False, False, Fal...  \n",
       "3  [False, False, False, False, False, False, Fal...  \n",
       "4  [False, False, False, False, False, False, Fal...  "
      ],
      "text/html": [
       "<div>\n",
       "<style scoped>\n",
       "    .dataframe tbody tr th:only-of-type {\n",
       "        vertical-align: middle;\n",
       "    }\n",
       "\n",
       "    .dataframe tbody tr th {\n",
       "        vertical-align: top;\n",
       "    }\n",
       "\n",
       "    .dataframe thead th {\n",
       "        text-align: right;\n",
       "    }\n",
       "</style>\n",
       "<table border=\"1\" class=\"dataframe\">\n",
       "  <thead>\n",
       "    <tr style=\"text-align: right;\">\n",
       "      <th></th>\n",
       "      <th>Title</th>\n",
       "      <th>Short Description</th>\n",
       "      <th>Title Document</th>\n",
       "      <th>Title Document Vectors</th>\n",
       "    </tr>\n",
       "  </thead>\n",
       "  <tbody>\n",
       "    <tr>\n",
       "      <th>0</th>\n",
       "      <td>studio accessoriato vicino metro a furio camillo</td>\n",
       "      <td>affitto studio a professionisti preferibilment...</td>\n",
       "      <td>{oriat, acces, vicin, io ca, camil, o cam, to ...</td>\n",
       "      <td>[False, False, False, False, False, False, Fal...</td>\n",
       "    </tr>\n",
       "    <tr>\n",
       "      <th>1</th>\n",
       "      <td>negozio 169mq per laboratorio, ufficio, studio...</td>\n",
       "      <td>privato affitta negozio 169 mq, al piano terra...</td>\n",
       "      <td>{ a ro, borat, oma. , per l, 169mq, q per, ato...</td>\n",
       "      <td>[False, False, False, False, False, False, Fal...</td>\n",
       "    </tr>\n",
       "    <tr>\n",
       "      <th>2</th>\n",
       "      <td>negozio in tiburtina centro</td>\n",
       "      <td>negozio c/1 roma tiburtina centro via eugenio ...</td>\n",
       "      <td>{ in t, io in, burti, urtin, centr, na ce, n t...</td>\n",
       "      <td>[False, False, False, False, False, False, Fal...</td>\n",
       "    </tr>\n",
       "    <tr>\n",
       "      <th>3</th>\n",
       "      <td>studio medico via anapo parco nemorense</td>\n",
       "      <td>studio medico avviato, composto da tre studi c...</td>\n",
       "      <td>{ico v, co ne, parco, po pa, o nem, moren, a a...</td>\n",
       "      <td>[False, False, False, False, False, False, Fal...</td>\n",
       "    </tr>\n",
       "    <tr>\n",
       "      <th>4</th>\n",
       "      <td>cerco: appartamento per donna lavoratrice refe...</td>\n",
       "      <td>donna lavoratrice, non residente, con reddito ...</td>\n",
       "      <td>{rco: , nziat,  lavo, e ref, erenz, ament, r d...</td>\n",
       "      <td>[False, False, False, False, False, False, Fal...</td>\n",
       "    </tr>\n",
       "  </tbody>\n",
       "</table>\n",
       "</div>"
      ]
     },
     "execution_count": 6,
     "metadata": {},
     "output_type": "execute_result"
    }
   ],
   "execution_count": 6
  },
  {
   "metadata": {
    "ExecuteTime": {
     "end_time": "2024-11-12T10:37:06.836976Z",
     "start_time": "2024-11-12T10:37:06.833702Z"
    }
   },
   "cell_type": "code",
   "source": [
    "is_prime = lambda n: all(n % i for i in range(2, int(n ** 0.5) + 1))\n",
    "\n",
    "\n",
    "def next_prime(n):\n",
    "    while not is_prime(n): n += 1\n",
    "    return n\n",
    "\n",
    "\n",
    "next_prime(num_shingles)"
   ],
   "id": "25fcf69de468c8de",
   "outputs": [
    {
     "data": {
      "text/plain": [
       "12841"
      ]
     },
     "execution_count": 7,
     "metadata": {},
     "output_type": "execute_result"
    }
   ],
   "execution_count": 7
  },
  {
   "metadata": {
    "ExecuteTime": {
     "end_time": "2024-11-12T10:37:06.843142Z",
     "start_time": "2024-11-12T10:37:06.837725Z"
    }
   },
   "cell_type": "code",
   "source": [
    "class HashFunction:\n",
    "    def __init__(self, a, b, p, n): self.a, self.b, self.p, self.n = a, b, p, n\n",
    "\n",
    "    def __call__(self, x): return (self.a * x + self.b) % self.p % self.n\n",
    "\n",
    "\n",
    "H = 100  # n.o. hash functions\n",
    "p = next_prime(num_shingles)\n",
    "\n",
    "all_a = np.random.randint(1, num_shingles, H)\n",
    "all_b = np.random.randint(0, num_shingles, H)\n",
    "\n",
    "hs = np.array([\n",
    "    # lambda x: (a * x + b) % p % num_shingles  # sadly doesn't work due to lambda reference storage\n",
    "    HashFunction(a, b, p, num_shingles)\n",
    "    for a, b in zip(all_a, all_b)\n",
    "])\n",
    "\n",
    "[h(0) for h in hs]"
   ],
   "id": "37c99bc6862c7391",
   "outputs": [
    {
     "data": {
      "text/plain": [
       "[7370,\n",
       " 3011,\n",
       " 1861,\n",
       " 9926,\n",
       " 9544,\n",
       " 8663,\n",
       " 80,\n",
       " 7032,\n",
       " 5956,\n",
       " 8136,\n",
       " 2132,\n",
       " 8264,\n",
       " 5826,\n",
       " 7264,\n",
       " 5663,\n",
       " 11601,\n",
       " 4467,\n",
       " 5046,\n",
       " 6495,\n",
       " 10948,\n",
       " 4486,\n",
       " 5394,\n",
       " 9641,\n",
       " 9092,\n",
       " 3039,\n",
       " 7674,\n",
       " 367,\n",
       " 5677,\n",
       " 10940,\n",
       " 2543,\n",
       " 1628,\n",
       " 2875,\n",
       " 4077,\n",
       " 10656,\n",
       " 5602,\n",
       " 679,\n",
       " 3172,\n",
       " 6545,\n",
       " 2132,\n",
       " 8251,\n",
       " 12140,\n",
       " 805,\n",
       " 11878,\n",
       " 3619,\n",
       " 5852,\n",
       " 12206,\n",
       " 2260,\n",
       " 1831,\n",
       " 11837,\n",
       " 4649,\n",
       " 8678,\n",
       " 10256,\n",
       " 5438,\n",
       " 11018,\n",
       " 2883,\n",
       " 303,\n",
       " 5230,\n",
       " 10469,\n",
       " 10398,\n",
       " 5207,\n",
       " 2494,\n",
       " 12665,\n",
       " 2429,\n",
       " 5977,\n",
       " 7629,\n",
       " 4994,\n",
       " 1399,\n",
       " 9068,\n",
       " 8070,\n",
       " 2381,\n",
       " 10092,\n",
       " 5332,\n",
       " 4681,\n",
       " 3151,\n",
       " 11379,\n",
       " 3104,\n",
       " 7344,\n",
       " 11302,\n",
       " 2086,\n",
       " 5429,\n",
       " 5525,\n",
       " 5093,\n",
       " 9497,\n",
       " 4740,\n",
       " 10155,\n",
       " 4466,\n",
       " 6516,\n",
       " 11969,\n",
       " 9002,\n",
       " 10388,\n",
       " 7890,\n",
       " 10033,\n",
       " 528,\n",
       " 131,\n",
       " 3763,\n",
       " 70,\n",
       " 11575,\n",
       " 12370,\n",
       " 6885,\n",
       " 1554]"
      ]
     },
     "execution_count": 8,
     "metadata": {},
     "output_type": "execute_result"
    }
   ],
   "execution_count": 8
  },
  {
   "metadata": {
    "ExecuteTime": {
     "end_time": "2024-11-12T10:37:11.460624Z",
     "start_time": "2024-11-12T10:37:06.844909Z"
    }
   },
   "cell_type": "code",
   "source": [
    "def minhash_vector(shingle_vector):\n",
    "    minhashes = np.full_like(hs, np.inf)\n",
    "\n",
    "    for shingle_i, present in enumerate(shingle_vector):\n",
    "        if not present: continue\n",
    "        for i, h in enumerate(hs):\n",
    "            minhashes[i] = min(minhashes[i], h(shingle_i))\n",
    "\n",
    "    return minhashes\n",
    "\n",
    "\n",
    "data['Title MinHash Signature'] = data['Title Document Vectors'].apply(minhash_vector)\n",
    "\n",
    "data.head()"
   ],
   "id": "212ad2cae249072e",
   "outputs": [
    {
     "data": {
      "text/plain": [
       "                                               Title  \\\n",
       "0  studio accessoriato vicino metro a furio camillo    \n",
       "1  negozio 169mq per laboratorio, ufficio, studio...   \n",
       "2                       negozio in tiburtina centro    \n",
       "3           studio medico via anapo parco nemorense    \n",
       "4  cerco: appartamento per donna lavoratrice refe...   \n",
       "\n",
       "                                   Short Description  \\\n",
       "0  affitto studio a professionisti preferibilment...   \n",
       "1  privato affitta negozio 169 mq, al piano terra...   \n",
       "2  negozio c/1 roma tiburtina centro via eugenio ...   \n",
       "3  studio medico avviato, composto da tre studi c...   \n",
       "4  donna lavoratrice, non residente, con reddito ...   \n",
       "\n",
       "                                      Title Document  \\\n",
       "0  {oriat, acces, vicin, io ca, camil, o cam, to ...   \n",
       "1  { a ro, borat, oma. , per l, 169mq, q per, ato...   \n",
       "2  { in t, io in, burti, urtin, centr, na ce, n t...   \n",
       "3  {ico v, co ne, parco, po pa, o nem, moren, a a...   \n",
       "4  {rco: , nziat,  lavo, e ref, erenz, ament, r d...   \n",
       "\n",
       "                              Title Document Vectors  \\\n",
       "0  [False, False, False, False, False, False, Fal...   \n",
       "1  [False, False, False, False, False, False, Fal...   \n",
       "2  [False, False, False, False, False, False, Fal...   \n",
       "3  [False, False, False, False, False, False, Fal...   \n",
       "4  [False, False, False, False, False, False, Fal...   \n",
       "\n",
       "                             Title MinHash Signature  \n",
       "0  [224, 96, 30, 114, 241, 666, 565, 67, 283, 344...  \n",
       "1  [164, 291, 357, 98, 241, 224, 113, 142, 25, 43...  \n",
       "2  [846, 95, 31, 26, 109, 369, 355, 640, 44, 278,...  \n",
       "3  [419, 198, 822, 144, 19, 436, 126, 147, 276, 1...  \n",
       "4  [164, 40, 127, 102, 78, 1, 357, 336, 329, 129,...  "
      ],
      "text/html": [
       "<div>\n",
       "<style scoped>\n",
       "    .dataframe tbody tr th:only-of-type {\n",
       "        vertical-align: middle;\n",
       "    }\n",
       "\n",
       "    .dataframe tbody tr th {\n",
       "        vertical-align: top;\n",
       "    }\n",
       "\n",
       "    .dataframe thead th {\n",
       "        text-align: right;\n",
       "    }\n",
       "</style>\n",
       "<table border=\"1\" class=\"dataframe\">\n",
       "  <thead>\n",
       "    <tr style=\"text-align: right;\">\n",
       "      <th></th>\n",
       "      <th>Title</th>\n",
       "      <th>Short Description</th>\n",
       "      <th>Title Document</th>\n",
       "      <th>Title Document Vectors</th>\n",
       "      <th>Title MinHash Signature</th>\n",
       "    </tr>\n",
       "  </thead>\n",
       "  <tbody>\n",
       "    <tr>\n",
       "      <th>0</th>\n",
       "      <td>studio accessoriato vicino metro a furio camillo</td>\n",
       "      <td>affitto studio a professionisti preferibilment...</td>\n",
       "      <td>{oriat, acces, vicin, io ca, camil, o cam, to ...</td>\n",
       "      <td>[False, False, False, False, False, False, Fal...</td>\n",
       "      <td>[224, 96, 30, 114, 241, 666, 565, 67, 283, 344...</td>\n",
       "    </tr>\n",
       "    <tr>\n",
       "      <th>1</th>\n",
       "      <td>negozio 169mq per laboratorio, ufficio, studio...</td>\n",
       "      <td>privato affitta negozio 169 mq, al piano terra...</td>\n",
       "      <td>{ a ro, borat, oma. , per l, 169mq, q per, ato...</td>\n",
       "      <td>[False, False, False, False, False, False, Fal...</td>\n",
       "      <td>[164, 291, 357, 98, 241, 224, 113, 142, 25, 43...</td>\n",
       "    </tr>\n",
       "    <tr>\n",
       "      <th>2</th>\n",
       "      <td>negozio in tiburtina centro</td>\n",
       "      <td>negozio c/1 roma tiburtina centro via eugenio ...</td>\n",
       "      <td>{ in t, io in, burti, urtin, centr, na ce, n t...</td>\n",
       "      <td>[False, False, False, False, False, False, Fal...</td>\n",
       "      <td>[846, 95, 31, 26, 109, 369, 355, 640, 44, 278,...</td>\n",
       "    </tr>\n",
       "    <tr>\n",
       "      <th>3</th>\n",
       "      <td>studio medico via anapo parco nemorense</td>\n",
       "      <td>studio medico avviato, composto da tre studi c...</td>\n",
       "      <td>{ico v, co ne, parco, po pa, o nem, moren, a a...</td>\n",
       "      <td>[False, False, False, False, False, False, Fal...</td>\n",
       "      <td>[419, 198, 822, 144, 19, 436, 126, 147, 276, 1...</td>\n",
       "    </tr>\n",
       "    <tr>\n",
       "      <th>4</th>\n",
       "      <td>cerco: appartamento per donna lavoratrice refe...</td>\n",
       "      <td>donna lavoratrice, non residente, con reddito ...</td>\n",
       "      <td>{rco: , nziat,  lavo, e ref, erenz, ament, r d...</td>\n",
       "      <td>[False, False, False, False, False, False, Fal...</td>\n",
       "      <td>[164, 40, 127, 102, 78, 1, 357, 336, 329, 129,...</td>\n",
       "    </tr>\n",
       "  </tbody>\n",
       "</table>\n",
       "</div>"
      ]
     },
     "execution_count": 9,
     "metadata": {},
     "output_type": "execute_result"
    }
   ],
   "execution_count": 9
  },
  {
   "metadata": {},
   "cell_type": "markdown",
   "source": [
    "With the code components provided, we can now modularize our work into reusable utility functions. This approach makes it straightforward to integrate these functions into other projects, such as the ongoing MinHash exercise. Specifically, we have:\n",
    "\n",
    "- `KShingles`: A class to generate k-shingles from text entries.\n",
    "- `HashFunction`: A class that defines and applies a simple hash function.\n",
    "- `create_shingles_index`: A function to create an index mapping from unique shingles.\n",
    "- `shingle_vector`: A function to convert a set of shingles into a vector of boolean values.\n",
    "- `create_hashfunctions`: A function to create a list of hash functions for MinHash.\n",
    "- `minhash_vector`: A function to compute the MinHash signature vector for a document.\n",
    "- `MinHash`: A class that uses all of the above functions to return a MinHash of entries.\n",
    "\n",
    "These utilities allow us to seamlessly process text data into k-shingles, create vector representations, and compute MinHash signatures. While we are not implementing Locality-Sensitive Hashing (LSH) to obtain candidate pairs yet, these foundational tools are essential for building towards that capability in future stages.\n",
    "\n",
    "Below you will find the code using the util functions."
   ],
   "id": "182b800708d4f9e6"
  },
  {
   "metadata": {
    "ExecuteTime": {
     "end_time": "2024-11-12T10:37:16.010380Z",
     "start_time": "2024-11-12T10:37:11.461919Z"
    }
   },
   "cell_type": "code",
   "source": [
    "from util import *\n",
    "import pandas as pd\n",
    "\n",
    "data = pd.read_csv('data/dataset_rent_rome_kijiji.tsv', sep='\\t', header=0,\n",
    "                   usecols=['Title', 'Short Description'])\n",
    "data = data.map(str.lower)\n",
    "min_hash = MinHash(k=4)\n",
    "signature = min_hash(data['Title'])\n",
    "\n",
    "signature.head()"
   ],
   "id": "e1f5d982acd7dfd",
   "outputs": [
    {
     "data": {
      "text/plain": [
       "0    [198.0, 134.0, 102.0, 355.0, 80.0, 456.0, 5.0,...\n",
       "1    [5.0, 333.0, 330.0, 155.0, 111.0, 86.0, 23.0, ...\n",
       "2    [94.0, 29.0, 285.0, 71.0, 58.0, 190.0, 21.0, 8...\n",
       "3    [36.0, 390.0, 409.0, 88.0, 155.0, 471.0, 31.0,...\n",
       "4    [79.0, 124.0, 3.0, 41.0, 121.0, 1.0, 27.0, 48....\n",
       "Name: Title, dtype: object"
      ]
     },
     "execution_count": 10,
     "metadata": {},
     "output_type": "execute_result"
    }
   ],
   "execution_count": 10
  }
 ],
 "metadata": {
  "kernelspec": {
   "display_name": "Python 3",
   "language": "python",
   "name": "python3"
  },
  "language_info": {
   "codemirror_mode": {
    "name": "ipython",
    "version": 2
   },
   "file_extension": ".py",
   "mimetype": "text/x-python",
   "name": "python",
   "nbconvert_exporter": "python",
   "pygments_lexer": "ipython2",
   "version": "2.7.6"
  }
 },
 "nbformat": 4,
 "nbformat_minor": 5
}
