{
 "cells": [
  {
   "metadata": {},
   "cell_type": "markdown",
   "source": [
    "## Aufgabe 1\n",
    "\n",
    "..."
   ],
   "id": "88c9c34b6ab1b613"
  },
  {
   "metadata": {},
   "cell_type": "markdown",
   "source": "## Aufgabe 2",
   "id": "9eea600aeca10d1a"
  },
  {
   "metadata": {
    "ExecuteTime": {
     "end_time": "2024-11-02T03:10:33.253747Z",
     "start_time": "2024-11-02T03:10:32.529182Z"
    }
   },
   "cell_type": "code",
   "source": [
    "import glob\n",
    "import os.path\n",
    "import email\n",
    "\n",
    "import pandas as pd"
   ],
   "id": "a1ce703a94eb164",
   "outputs": [],
   "execution_count": 1
  },
  {
   "metadata": {
    "ExecuteTime": {
     "end_time": "2024-11-02T03:10:33.278554Z",
     "start_time": "2024-11-02T03:10:33.254694Z"
    }
   },
   "cell_type": "code",
   "source": [
    "def rent_in_rome(n=None, cols=['Title', 'Short Description']):\n",
    "    return pd.read_csv('data/dataset_rent_rome_kijiji.tsv', sep='\\t', header=0,\n",
    "                       nrows=n, usecols=cols)\n",
    "\n",
    "\n",
    "rent_in_rome().head()"
   ],
   "id": "1b70a5ccad00767b",
   "outputs": [
    {
     "data": {
      "text/plain": [
       "                                               Title  \\\n",
       "0  Studio accessoriato vicino metro A Furio Camillo    \n",
       "1  Negozio 169Mq per laboratorio, ufficio, studio...   \n",
       "2                       Negozio in tiburtina centro    \n",
       "3           Studio medico via anapo parco nemorense    \n",
       "4  Cerco: Appartamento per donna lavoratrice refe...   \n",
       "\n",
       "                                   Short Description  \n",
       "0  Affitto studio a professionisti preferibilment...  \n",
       "1  Privato affitta negozio 169 mq, al piano terra...  \n",
       "2  Negozio c/1 roma tiburtina centro via eugenio ...  \n",
       "3  Studio medico avviato, composto da tre studi c...  \n",
       "4  Donna lavoratrice, non residente, con reddito ...  "
      ],
      "text/html": [
       "<div>\n",
       "<style scoped>\n",
       "    .dataframe tbody tr th:only-of-type {\n",
       "        vertical-align: middle;\n",
       "    }\n",
       "\n",
       "    .dataframe tbody tr th {\n",
       "        vertical-align: top;\n",
       "    }\n",
       "\n",
       "    .dataframe thead th {\n",
       "        text-align: right;\n",
       "    }\n",
       "</style>\n",
       "<table border=\"1\" class=\"dataframe\">\n",
       "  <thead>\n",
       "    <tr style=\"text-align: right;\">\n",
       "      <th></th>\n",
       "      <th>Title</th>\n",
       "      <th>Short Description</th>\n",
       "    </tr>\n",
       "  </thead>\n",
       "  <tbody>\n",
       "    <tr>\n",
       "      <th>0</th>\n",
       "      <td>Studio accessoriato vicino metro A Furio Camillo</td>\n",
       "      <td>Affitto studio a professionisti preferibilment...</td>\n",
       "    </tr>\n",
       "    <tr>\n",
       "      <th>1</th>\n",
       "      <td>Negozio 169Mq per laboratorio, ufficio, studio...</td>\n",
       "      <td>Privato affitta negozio 169 mq, al piano terra...</td>\n",
       "    </tr>\n",
       "    <tr>\n",
       "      <th>2</th>\n",
       "      <td>Negozio in tiburtina centro</td>\n",
       "      <td>Negozio c/1 roma tiburtina centro via eugenio ...</td>\n",
       "    </tr>\n",
       "    <tr>\n",
       "      <th>3</th>\n",
       "      <td>Studio medico via anapo parco nemorense</td>\n",
       "      <td>Studio medico avviato, composto da tre studi c...</td>\n",
       "    </tr>\n",
       "    <tr>\n",
       "      <th>4</th>\n",
       "      <td>Cerco: Appartamento per donna lavoratrice refe...</td>\n",
       "      <td>Donna lavoratrice, non residente, con reddito ...</td>\n",
       "    </tr>\n",
       "  </tbody>\n",
       "</table>\n",
       "</div>"
      ]
     },
     "execution_count": 2,
     "metadata": {},
     "output_type": "execute_result"
    }
   ],
   "execution_count": 2
  },
  {
   "metadata": {
    "ExecuteTime": {
     "end_time": "2024-11-02T03:10:36.607075Z",
     "start_time": "2024-11-02T03:10:33.279250Z"
    }
   },
   "cell_type": "code",
   "source": [
    "def read_file(path):\n",
    "    with open(path, 'r', encoding='utf-8', errors='ignore') as file:\n",
    "        raw_email = file.read()\n",
    "        msg = email.message_from_string(raw_email)\n",
    "        return {\n",
    "            'file': path,\n",
    "            'subject': msg['subject'],\n",
    "            'from': msg['from'],\n",
    "            'to': msg['to'],\n",
    "            'body': msg.get_payload(decode=True).decode(errors='ignore')\n",
    "        }\n",
    "\n",
    "\n",
    "def enron_email(n=None):\n",
    "    paths = glob.glob(f\"data/maildir/**/*\", recursive=True)[:n]\n",
    "    return pd.DataFrame(read_file(path) for path in paths if os.path.isfile(path))\n",
    "\n",
    "\n",
    "enron_email(5).head()"
   ],
   "id": "97bca109836c8e79",
   "outputs": [
    {
     "data": {
      "text/plain": [
       "Empty DataFrame\n",
       "Columns: []\n",
       "Index: []"
      ],
      "text/html": [
       "<div>\n",
       "<style scoped>\n",
       "    .dataframe tbody tr th:only-of-type {\n",
       "        vertical-align: middle;\n",
       "    }\n",
       "\n",
       "    .dataframe tbody tr th {\n",
       "        vertical-align: top;\n",
       "    }\n",
       "\n",
       "    .dataframe thead th {\n",
       "        text-align: right;\n",
       "    }\n",
       "</style>\n",
       "<table border=\"1\" class=\"dataframe\">\n",
       "  <thead>\n",
       "    <tr style=\"text-align: right;\">\n",
       "      <th></th>\n",
       "    </tr>\n",
       "  </thead>\n",
       "  <tbody>\n",
       "  </tbody>\n",
       "</table>\n",
       "</div>"
      ]
     },
     "execution_count": 3,
     "metadata": {},
     "output_type": "execute_result"
    }
   ],
   "execution_count": 3
  },
  {
   "metadata": {
    "ExecuteTime": {
     "end_time": "2024-11-02T03:12:30.414093Z",
     "start_time": "2024-11-02T03:10:36.608541Z"
    }
   },
   "cell_type": "code",
   "source": [
    "rir_data = rent_in_rome()\n",
    "ee_data = enron_email()"
   ],
   "id": "75d02b2c32edf5fb",
   "outputs": [],
   "execution_count": 4
  },
  {
   "metadata": {},
   "cell_type": "markdown",
   "source": "## Aufgabe 3",
   "id": "ee2601ea7e3c9d9"
  },
  {
   "metadata": {
    "ExecuteTime": {
     "end_time": "2024-11-02T03:12:30.418498Z",
     "start_time": "2024-11-02T03:12:30.415641Z"
    }
   },
   "cell_type": "code",
   "source": [
    "class KShingles:\n",
    "    def __init__(self, k):\n",
    "        assert k > 0\n",
    "        self.k = k\n",
    "\n",
    "    def __call__(self, entry):\n",
    "        assert len(entry) <= self.k\n",
    "        for i in range(len(entry) - self.k + 1):\n",
    "            yield entry[i:i + self.k]"
   ],
   "id": "35824fefe863586b",
   "outputs": [],
   "execution_count": 5
  },
  {
   "metadata": {},
   "cell_type": "markdown",
   "source": "Ein paar assertions sollten reichen",
   "id": "3a14f88c8f0abd0f"
  },
  {
   "metadata": {},
   "cell_type": "markdown",
   "source": "## Aufgabe 4",
   "id": "600b98f3e45f40f8"
  },
  {
   "metadata": {
    "ExecuteTime": {
     "end_time": "2024-11-02T03:12:30.582125Z",
     "start_time": "2024-11-02T03:12:30.419317Z"
    }
   },
   "cell_type": "code",
   "source": [
    "from k_shingles import MR4Shingles\n",
    "import tempfile"
   ],
   "id": "d701772c773d191e",
   "outputs": [],
   "execution_count": 6
  },
  {
   "metadata": {
    "ExecuteTime": {
     "end_time": "2024-11-02T03:12:30.587085Z",
     "start_time": "2024-11-02T03:12:30.583369Z"
    }
   },
   "cell_type": "code",
   "source": [
    "def run(input_file, output_file):\n",
    "    job = MR4Shingles(args=[input_file])\n",
    "    with job.make_runner() as runner, open(output_file, 'w') as out:\n",
    "        runner.run()\n",
    "        out.writelines(f\"{key}\\t{value}\\n\" for key, value in\n",
    "                       sorted(job.parse_output(runner.cat_output()), key=lambda k: -k[1])[:20])"
   ],
   "id": "c36944e96ef3636a",
   "outputs": [],
   "execution_count": 7
  },
  {
   "metadata": {
    "ExecuteTime": {
     "end_time": "2024-11-02T03:12:34.021722Z",
     "start_time": "2024-11-02T03:12:30.591577Z"
    }
   },
   "cell_type": "code",
   "source": [
    "with tempfile.NamedTemporaryFile('w+') as tmp:\n",
    "    tmp.writelines(rir_data['Title'] + rir_data['Short Description'])\n",
    "    run(tmp.name, './rir')"
   ],
   "id": "85a3ba5f8f1603a9",
   "outputs": [
    {
     "name": "stderr",
     "output_type": "stream",
     "text": [
      "No configs specified for inline runner\n"
     ]
    }
   ],
   "execution_count": 8
  },
  {
   "metadata": {
    "jupyter": {
     "is_executing": true
    },
    "ExecuteTime": {
     "start_time": "2024-11-02T03:12:34.022389Z"
    }
   },
   "cell_type": "code",
   "source": [
    "with tempfile.NamedTemporaryFile('w+') as tmp:\n",
    "    tmp.writelines(ee_data['body'])\n",
    "    run(tmp.name, './ee')"
   ],
   "id": "9592e370b14b9fa0",
   "outputs": [
    {
     "name": "stderr",
     "output_type": "stream",
     "text": [
      "No configs specified for inline runner\n"
     ]
    }
   ],
   "execution_count": null
  },
  {
   "metadata": {},
   "cell_type": "markdown",
   "source": [
    "## Aufgabe 5\n",
    "1. Texte auswählen (z.B. Title + Description oder nur Description)\n",
    "2. Text in Dokumente (set of shingles) transformieren\n",
    "3. Nummerierte Liste von unique Shingles [a,b,...]\n",
    "4. Dokumente in Vektor Form transformieren (Index aus nummerierter Shingle Liste)\n",
    "5. H Hash Funktionen generieren\n",
    "6. Vektor Form Dokumente in Signaturen transformieren"
   ],
   "id": "62cde0d405cf50a5"
  }
 ],
 "metadata": {
  "kernelspec": {
   "display_name": "Python 3",
   "language": "python",
   "name": "python3"
  },
  "language_info": {
   "codemirror_mode": {
    "name": "ipython",
    "version": 2
   },
   "file_extension": ".py",
   "mimetype": "text/x-python",
   "name": "python",
   "nbconvert_exporter": "python",
   "pygments_lexer": "ipython2",
   "version": "2.7.6"
  }
 },
 "nbformat": 4,
 "nbformat_minor": 5
}
