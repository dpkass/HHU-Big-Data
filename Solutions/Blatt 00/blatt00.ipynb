{
 "cells": [
  {
   "metadata": {},
   "cell_type": "code",
   "outputs": [],
   "execution_count": null,
   "source": "import numpy as np",
   "id": "661a8c623f4daa40"
  },
  {
   "metadata": {},
   "cell_type": "markdown",
   "source": "# 1 Lineare Algebra: Skalarprodukte",
   "id": "af4d80a8356b1308"
  },
  {
   "metadata": {},
   "cell_type": "markdown",
   "source": [
    "# 2 Lineare Algebra: Matrixmultiplikation\n",
    "\n",
    "**Definition.** Für zwei Matrizen $M \\in \\mathbb{R}^{m \\times l}$ (d.h. $m$ Zeilen und $l$ Spalten, shape $(m,l)$) und $N \\in \\mathbb{R}^{l \\times n}$ (d.h. $l$ Zeilen und $n$ Spalten, shape $(l,n)$) ist das Matrixprodukt definiert als\n",
    "$$MN \\in \\mathbb{R}^{m \\times n}, \\quad (MN)_{ij} := M_i \\cdot (N^\\top)_j.$$\n",
    "\n",
    "Der Eintrag von $MN$ in Zeile $i$ und Spalte $j$ ist also das Skalarprodukt der $i$-ten Zeile von $M$ mit der $j$-ten Spalte von $N$ (das ist gleich der $j$-ten Zeile von $N^\\top$).\n",
    "\n",
    "In Numpy führt `np.matmul` bzw. der `@`-Operator die Matrixmultiplikation aus (nicht `*`).\n",
    "Man kann natürlich auch direkt schreiben:\n",
    "$$ (MN)_{ij} = \\sum_{k=1}^{l} M_{ik} N_{kj}. $$"
   ],
   "id": "842e56286e21887c"
  },
  {
   "metadata": {},
   "cell_type": "markdown",
   "source": "## Aufgaben zu Lineare Algebra: Matrixmultiplikation",
   "id": "af308b0b8eb7670c"
  },
  {
   "metadata": {},
   "cell_type": "markdown",
   "source": [
    "**Aufgabe 1.**  \n",
    "Wir können eine ‘lazy’ Matrixmultiplikation implementieren (und dabei Numpy’s `np.dot` nutzen): eine Datenstruktur, die zwei Matrizen $M, N$ abspeichert und erst dann einen Eintrag $(MN)_{ij}$ berechnet, wenn dieser angefordert wird, etwa so:\n",
    "```python\n",
    "x = LazyMatMul(M,N)\n",
    "print(x.getEntry(2,3)) # Hier wird erst gerechnet\n",
    "```\n",
    "\n",
    "- **Bonusaufgabe a:** Überschreiben Sie geeignete Python-Methoden, um die Syntax `x[2,3]` oder `x[2][3]` zu ermöglichen.\n",
    "- **Bonusaufgabe b:** Implementieren Sie Caching, sodass ein zweiter Abruf des selben Eintrags keine erneute Rechnung auslöst.\n",
    "- **Bonusaufgabe c:** Testen Sie Ihre Implementierung randomisiert gegen Numpy’s eigene Matrixmultiplikation."
   ],
   "id": "53e0eabc6f4a4b76"
  },
  {
   "metadata": {
    "ExecuteTime": {
     "end_time": "2024-10-17T06:27:43.235894Z",
     "start_time": "2024-10-17T06:27:43.224770Z"
    }
   },
   "cell_type": "code",
   "source": [
    "class LazyMatMul:\n",
    "    def __init__(self, M, N):\n",
    "        self.M, self.N = np.array(M), np.array(N)\n",
    "        self.cache = np.full((self.M.shape[0], self.N.shape[1]), None, dtype=np.float64)\n",
    "        assert self.M.shape[1] == self.N.shape[0]\n",
    "\n",
    "    def getEntry(self, i, j):\n",
    "        if not np.isnan(self.cache[i, j]): return self.cache[i, j]\n",
    "        self.cache[i, j] = self.M[i] @ self.N[:, j]\n",
    "        return self.cache[i, j]\n",
    "\n",
    "    def __getitem__(self, i):\n",
    "        if isinstance(i, tuple): return self.getEntry(i[0], i[1])\n",
    "        return [self.getEntry(i, j) for j in range(self.N.shape[1])]\n",
    "\n",
    "\n",
    "x = LazyMatMul([[1, 2, 3], [4, 5, 6]], [[1], [2], [3]])\n",
    "assert x.getEntry(1, 0) == 32\n",
    "assert x[1, 0] == 32\n",
    "assert x[1][0] == 32"
   ],
   "id": "1b19e4fc6896de8c",
   "outputs": [],
   "execution_count": 38
  },
  {
   "metadata": {},
   "cell_type": "markdown",
   "source": [
    "**Aufgabe 2.**  \n",
    "Wenn man symmetrische Matrizen multipliziert, also Matrizen $M \\in \\mathbb{R}^{m \\times m}$ mit $M^\\top = M$, benötigt man weniger Speicher für die Einträge der Matrix. Das gleiche gilt, wenn man obere Dreiecksmatrizen multiplizieren möchte, also $M \\in \\mathbb{R}^{m \\times m}$ mit $M_{ij} = 0$ für $j > i$. Implementieren Sie eine Datenstruktur `TriangMat` für obere Dreiecksmatrizen, die nur so viele Floats speichert, wie wirklich notwendig sind.  \n",
    "Als Konstruktor bietet sich an, eine ’klassische’ Matrix (als Numpy Array) anzunehmen und eine Fehlermeldung zu generieren, wenn es sich nicht um eine obere Dreiecksmatrix handelt. Schreiben Sie eine `triangMatMul`-Methode, die zwei obere Dreiecksmatrizen multipliziert.\n",
    "\n",
    "- **Bonusaufgabe:** Implementieren Sie analog `SymmMat` für symmetrische Matrizen."
   ],
   "id": "dffa8de566fc36c0"
  },
  {
   "metadata": {
    "ExecuteTime": {
     "end_time": "2024-10-17T06:54:48.849188Z",
     "start_time": "2024-10-17T06:54:48.844918Z"
    }
   },
   "cell_type": "code",
   "source": [
    "class TriangMat:\n",
    "    def __init__(self, M):\n",
    "        M = np.array(M)\n",
    "        assert M.shape[0] == M.shape[1]\n",
    "        self.M = {i: row[i:] for i, row in enumerate(M)}\n",
    "\n",
    "    def set(self, i, j, v):\n",
    "        self.M[i][j - i] = v\n",
    "\n",
    "\n",
    "x = TriangMat([[1, 2, 3], [4, 5, 6], [7, 8, 9]])\n",
    "assert np.array_equal(x.M[0], [1, 2, 3])\n",
    "assert np.array_equal(x.M[1], [5, 6])\n",
    "assert np.array_equal(x.M[2], [9])"
   ],
   "id": "f0f3e56ed961cff6",
   "outputs": [],
   "execution_count": 68
  },
  {
   "metadata": {
    "ExecuteTime": {
     "end_time": "2024-10-17T15:51:03.880591Z",
     "start_time": "2024-10-17T15:51:03.866992Z"
    }
   },
   "cell_type": "code",
   "source": [
    "def triangMatMul(M, N):\n",
    "    O = TriangMat(M)\n",
    "    for i in range(M.shape[0]):\n",
    "        for j in range(i, N.shape[1]):\n",
    "            sum = 0\n",
    "            for k in range(j + 1):\n",
    "                sum += M[i, k] * N[k, j]\n",
    "            O.set(i, j, sum)\n",
    "    return O"
   ],
   "id": "243959daf575182d",
   "outputs": [],
   "execution_count": 90
  },
  {
   "metadata": {
    "ExecuteTime": {
     "end_time": "2024-10-17T15:51:04.122621Z",
     "start_time": "2024-10-17T15:51:04.116847Z"
    }
   },
   "cell_type": "code",
   "source": [
    "M = np.array([[1, 2, 3], [0, 5, 6], [0, 0, 9]])\n",
    "triangMatMul(M, M).M"
   ],
   "id": "dc6e0d058617af42",
   "outputs": [
    {
     "data": {
      "text/plain": [
       "{0: array([ 1, 12, 42]), 1: array([25, 84]), 2: array([81])}"
      ]
     },
     "execution_count": 91,
     "metadata": {},
     "output_type": "execute_result"
    }
   ],
   "execution_count": 91
  },
  {
   "metadata": {},
   "cell_type": "markdown",
   "source": [
    "**Aufgabe 3.**  \n",
    "Gegeben eine Matrix $M \\in \\mathbb{R}^{m \\times l}$ und Zerlegungen $m = m_1 + m_2$ sowie $l = l_1 + l_2$ mit $m_1, m_2, l_1, l_2 > 0$ können wir $M$ als ’Blockmatrix’ schreiben:\n",
    "$\n",
    "M =\n",
    "\\begin{pmatrix}\n",
    "A & B \\\\\n",
    "C & D\n",
    "\\end{pmatrix}, A \\in \\mathbb{R}^{m_1 \\times l_1}, B \\in \\mathbb{R}^{m_1 \\times l_2}, C \\in \\mathbb{R}^{m_2 \\times l_1}, D \\in \\mathbb{R}^{m_2 \\times l_2}.\n",
    "$\n",
    "Wenn wir ebenso $N \\in \\mathbb{R}^{l \\times n}$ zerlegen (mit $n = n_1 + n_2$ für $n_1, n_2 > 0$), also:\n",
    "$\n",
    "N =\n",
    "\\begin{pmatrix}\n",
    "E & F \\\\\n",
    "G & H\n",
    "\\end{pmatrix}, E \\in \\mathbb{R}^{l_1 \\times n_1}, F \\in \\mathbb{R}^{l_1 \\times n_2}, G \\in \\mathbb{R}^{l_2 \\times n_1}, H \\in \\mathbb{R}^{l_2 \\times n_2},\n",
    "$\n",
    "dann können wir das Matrixprodukt blockweise ausrechnen:\n",
    "$\n",
    "MN =\n",
    "\\begin{pmatrix}\n",
    "AE + BG & AF + BH \\\\\n",
    "CE + DG & CF + DH\n",
    "\\end{pmatrix}.\n",
    "$\n",
    "\n",
    "Um $MN$ auszurechnen, müssen $M$ und $N$ also nie gleichzeitig vollständig im Speicher liegen.  \n",
    "Überlegen Sie: Wie lässt sich das verallgemeinern?"
   ],
   "id": "619a09772179928a"
  },
  {
   "metadata": {},
   "cell_type": "markdown",
   "source": "???",
   "id": "3462df951b9a5fa3"
  },
  {
   "metadata": {},
   "cell_type": "markdown",
   "source": [
    "# 3 Lineare Algebra: Matrixmultiplikation von dünn besetzten Matrizen\n",
    "\n",
    "**Definition.**  \n",
    "Eine Matrix heißt dünn besetzt (sparse), wenn die meisten Einträge 0 sind.\n",
    "\n",
    "Das ist keine rigorose Definition! Ein häufiges Kriterium ist, dass die Anzahl der nicht-0-Einträge ungefähr der Anzahl Zeilen oder Spalten entsprechen sollte, um von Sparsity zu sprechen.\n",
    "\n",
    "Tatsächlich liegt die Entscheidung bei uns, ob wir eine Matrix als dünn besetzt auffassen wollen, oder nicht. Der Unterschied liegt darin, wie wir die Einträge der Matrix abspeichern.\n",
    "\n",
    "Eine 'volle' Matrix erfordert das Speichern aller Einträge. Eine dünn besetzte Matrix erfordert nur das Speichern der nicht-0-Einträge.  \n",
    "In Python speichern wir volle Matrizen als Listen von Listen oder (besser!) als Numpy Arrays. Dünn besetzte Matrizen können wir z.B. als Dictionaries (= Hashmap) abspeichern:\n",
    "\n",
    "```python\n",
    "m_sparse = {(0,1) : 5, (1,1) : 4}\n",
    "```\n",
    "\n",
    "Das könnte z.B. die Matrix $M = \\begin{pmatrix} 0 & 5 \\\\ 0 & 4 \\end{pmatrix}$ sein. Tatsächlich könnte $M$ auch eine $3 \\times 2$-Matrix oder eine $10 \\times 10$-Matrix sein (mit vielen Nullen). Manchmal möchte man daher Zeilen- und Spaltenanzahl auch speichern.\n",
    "\n",
    "**Aufgabe 4:** Implementieren Sie Matrixmultiplikation von zwei dünn besetzten Matrizen\n",
    "\n",
    "**Tipp:**  \n",
    "Implementieren Sie zunächst das Berechnen eines einzelnen Eintrags der Produktmatrix.  \n",
    "Überlegen Sie sich als erstes, wie es geht, wenn die beiden Matrizen ein Zeilenvektor und ein Spaltenvektor sind (sodass das Matrixprodukt eine $1 \\times 1$-Matrix ist, die genau das Skalarprodukt als einzigen Eintrag enthält)."
   ],
   "id": "46be07e91c3bfff6"
  },
  {
   "metadata": {
    "ExecuteTime": {
     "end_time": "2024-10-18T18:50:59.465594Z",
     "start_time": "2024-10-18T18:50:59.454536Z"
    }
   },
   "cell_type": "code",
   "source": [
    "def sparse_single(M, N, o, p):\n",
    "    \"\"\"o, p are the indices of the output matrix we are computing\"\"\"\n",
    "    return sum(M[i, j] * N[(j, p)]\n",
    "               for i, j in M\n",
    "               if i == o\n",
    "               and (j, p) in N)\n",
    "\n",
    "\n",
    "def sparse_mat_mul(M, N, m, l):\n",
    "    \"\"\"\n",
    "    M is a sparse matrix of shape [m, _]\n",
    "    N is a sparse matrix of shape [_, l]\n",
    "    \"\"\"\n",
    "    O = dict()\n",
    "    for i in range(m):\n",
    "        for j in range(l):\n",
    "            res = sparse_single(M, N, i, j)\n",
    "            if res != 0: O[(i, j)] = res\n",
    "\n",
    "    return O"
   ],
   "id": "e8578a8d48175d3b",
   "outputs": [],
   "execution_count": 112
  },
  {
   "metadata": {
    "ExecuteTime": {
     "end_time": "2024-10-18T18:53:02.611944Z",
     "start_time": "2024-10-18T18:53:02.608786Z"
    }
   },
   "cell_type": "code",
   "source": [
    "M = {(0, 1): 5, (1, 1): 4, (1, 2): 3, (2, 4): 2, (2, 3): 1}\n",
    "M = sparse_mat_mul(M, M, 5, 5)\n",
    "M = sparse_mat_mul(M, M, 5, 5)\n",
    "M"
   ],
   "id": "c7f5d3f992d34dde",
   "outputs": [
    {
     "data": {
      "text/plain": [
       "{(0, 1): 320,\n",
       " (0, 2): 240,\n",
       " (0, 3): 60,\n",
       " (0, 4): 120,\n",
       " (1, 1): 256,\n",
       " (1, 2): 192,\n",
       " (1, 3): 48,\n",
       " (1, 4): 96}"
      ]
     },
     "execution_count": 122,
     "metadata": {},
     "output_type": "execute_result"
    }
   ],
   "execution_count": 122
  },
  {
   "metadata": {},
   "cell_type": "markdown",
   "source": [
    "# 4 Simples Map-Reduce-Framework (octo.py)\n",
    "\n",
    "**Aufgabe 5:**\n",
    "\n",
    "Schauen Sie sich den Code octo.py an.  \n",
    "Was können Sie grob über die Struktur sagen?  \n",
    "Wie verwendet man das Modul, und was passiert dann?"
   ],
   "id": "7115ae0cdcb0f933"
  },
  {
   "metadata": {},
   "cell_type": "markdown",
   "source": "",
   "id": "b9d0a9af0080835a"
  }
 ],
 "metadata": {
  "kernelspec": {
   "display_name": "Python 3",
   "language": "python",
   "name": "python3"
  },
  "language_info": {
   "codemirror_mode": {
    "name": "ipython",
    "version": 2
   },
   "file_extension": ".py",
   "mimetype": "text/x-python",
   "name": "python",
   "nbconvert_exporter": "python",
   "pygments_lexer": "ipython2",
   "version": "2.7.6"
  }
 },
 "nbformat": 4,
 "nbformat_minor": 5
}
