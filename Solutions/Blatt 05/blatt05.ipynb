{
 "cells": [
  {
   "metadata": {},
   "cell_type": "markdown",
   "source": [
    "## Aufgabe 1\n",
    "1. Theoretische Konzepte umsetzen\n",
    "2. ?\n",
    "3. ?\n",
    "4. Zusammenarbeit mit Kommilitonen\n",
    "5. Zeitmanagement"
   ],
   "id": "d7ae43b4ef5a9862"
  },
  {
   "metadata": {},
   "cell_type": "markdown",
   "source": [
    "## Aufgabe 2 (ChatGPT)\n",
    "Die API-Demo der Wikimedia RecentChange-Streams bietet einen Echtzeit-Stream von Änderungen auf Wikimedia-Projekten. Damit könnte man ein Monitoring-Tool entwickeln, das ungewöhnliche Aktivitätsmuster erkennt oder ein Dashboard für Echtzeit-Analysen erstellt. Zusätzlich könnten Daten für maschinelles Lernen genutzt werden, um Änderungsmuster und Nutzerverhalten auf Wikipedia und verwandten Projekten zu analysieren."
   ],
   "id": "db83e4253039599b"
  },
  {
   "metadata": {},
   "cell_type": "markdown",
   "source": "## Aufgabe 3",
   "id": "657e95b74703a75"
  },
  {
   "metadata": {
    "ExecuteTime": {
     "end_time": "2024-11-14T10:49:33.723904Z",
     "start_time": "2024-11-14T10:49:33.721209Z"
    }
   },
   "cell_type": "code",
   "source": [
    "# Constants\n",
    "google_file = './data/web-Google.txt'\n",
    "wiki_file = './data/web-Google.txt'"
   ],
   "id": "3bf1d8880b3927ff",
   "outputs": [],
   "execution_count": 1
  },
  {
   "metadata": {
    "ExecuteTime": {
     "end_time": "2024-11-14T10:49:33.727770Z",
     "start_time": "2024-11-14T10:49:33.725166Z"
    }
   },
   "cell_type": "code",
   "source": "from collections import defaultdict",
   "id": "e8a7177f709c18b8",
   "outputs": [],
   "execution_count": 2
  },
  {
   "metadata": {
    "ExecuteTime": {
     "end_time": "2024-11-14T10:49:33.730896Z",
     "start_time": "2024-11-14T10:49:33.728621Z"
    }
   },
   "cell_type": "code",
   "source": [
    "def build_graph(l):\n",
    "    g = defaultdict(list)\n",
    "    for frm, *to in l:\n",
    "        g[frm].append(to)\n",
    "    return g\n",
    "\n",
    "\n",
    "def read_graph(file):\n",
    "    with open(file) as f: lines = f.readlines()\n",
    "    lines = filter(lambda line: not line.startswith('#'), lines)\n",
    "    lines = map(str.split, lines)\n",
    "    return build_graph(lines)"
   ],
   "id": "f947e4258bbf86fc",
   "outputs": [],
   "execution_count": 3
  },
  {
   "metadata": {
    "ExecuteTime": {
     "end_time": "2024-11-14T10:49:33.733636Z",
     "start_time": "2024-11-14T10:49:33.731898Z"
    }
   },
   "cell_type": "code",
   "source": [
    "get_google = lambda: read_graph(google_file)\n",
    "get_wiki = lambda: read_graph(wiki_file)"
   ],
   "id": "fca97c1136271175",
   "outputs": [],
   "execution_count": 4
  },
  {
   "metadata": {},
   "cell_type": "markdown",
   "source": "I don't like doing EDAs :)",
   "id": "5a38766cb6ccc254"
  }
 ],
 "metadata": {
  "kernelspec": {
   "display_name": "Python 3",
   "language": "python",
   "name": "python3"
  },
  "language_info": {
   "codemirror_mode": {
    "name": "ipython",
    "version": 2
   },
   "file_extension": ".py",
   "mimetype": "text/x-python",
   "name": "python",
   "nbconvert_exporter": "python",
   "pygments_lexer": "ipython2",
   "version": "2.7.6"
  }
 },
 "nbformat": 4,
 "nbformat_minor": 5
}
